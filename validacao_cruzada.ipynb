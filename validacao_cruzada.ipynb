{
 "cells": [
  {
   "cell_type": "markdown",
   "metadata": {},
   "source": [
    "# Validação Cruzada"
   ]
  },
  {
   "cell_type": "markdown",
   "metadata": {},
   "source": [
    "### Essa Tecnica é utilizada para testar a peformace do modelo de machine learning"
   ]
  },
  {
   "cell_type": "markdown",
   "metadata": {},
   "source": [
    "*Conceito Retirado do* ***Capitulo 5*** *apartir da* ***pagina 126*** *do livro* ***Data Science para Negocios***"
   ]
  },
  {
   "cell_type": "markdown",
   "metadata": {},
   "source": [
    "Ele consiste em dividir o dataset em ***K*** partes.  \n",
    "Cada parte é utilizada por vez como retenção enquanto a junção dos outros  \n",
    "são usados como treinamento.  \n",
    "**Treinamento:** (k - 1)/ k  \n",
    "**Teste:** 1/k  \n",
    "Por ultimo é gerado ***k*** resultado de desempenho(porcentagem de acerto em relação a lista de resposta esperada da *rentenção*)  \n",
    "*rentenção: dados utilizados para teste* "
   ]
  },
  {
   "cell_type": "markdown",
   "metadata": {},
   "source": [
    "## Criação do modelo e puxar dataset"
   ]
  },
  {
   "cell_type": "code",
   "execution_count": 1,
   "metadata": {},
   "outputs": [],
   "source": [
    "# importa as bibliotecas importantes\n",
    "from sklearn import datasets, tree, svm, metrics\n",
    "from sklearn.model_selection import cross_val_predict\n",
    "import numpy as np"
   ]
  },
  {
   "cell_type": "code",
   "execution_count": 2,
   "metadata": {},
   "outputs": [],
   "source": [
    "iris = datasets.load_iris()"
   ]
  },
  {
   "cell_type": "code",
   "execution_count": 3,
   "metadata": {
    "scrolled": true
   },
   "outputs": [],
   "source": [
    "# Gerando variaveis com dados da base e rusultado esperado \n",
    "base = iris['data']\n",
    "resultado = iris['target']"
   ]
  },
  {
   "cell_type": "code",
   "execution_count": 4,
   "metadata": {},
   "outputs": [],
   "source": [
    "# Função que Retorna o desempenho de acerto do modelo\n",
    "def desempenho(res_teste, res_predit):\n",
    "    valor = sum(res_teste == res_predit) / len(res_teste)\n",
    "    return valor"
   ]
  },
  {
   "cell_type": "markdown",
   "metadata": {},
   "source": [
    "#### Retenção Comum Com Arvore de Decisão"
   ]
  },
  {
   "cell_type": "code",
   "execution_count": 5,
   "metadata": {},
   "outputs": [],
   "source": [
    "# gera Variavel com 20% do total da base\n",
    "vinte_porcento = int(len(base)* 0.2)"
   ]
  },
  {
   "cell_type": "code",
   "execution_count": 6,
   "metadata": {
    "scrolled": true
   },
   "outputs": [],
   "source": [
    "# Gerado dados de Treinamento\n",
    "base_modelo = base[:-vinte_porcento]\n",
    "resultado_modelo = resultado[:-vinte_porcento]"
   ]
  },
  {
   "cell_type": "code",
   "execution_count": 7,
   "metadata": {},
   "outputs": [],
   "source": [
    "# Gerado dados de Retenção(teste)\n",
    "base_treinamento = base[-vinte_porcento:]\n",
    "resultado_treinamento = resultado[-vinte_porcento:]"
   ]
  },
  {
   "cell_type": "code",
   "execution_count": 8,
   "metadata": {},
   "outputs": [],
   "source": [
    "clf_t = tree.DecisionTreeClassifier().fit(base_modelo, resultado_modelo)"
   ]
  },
  {
   "cell_type": "code",
   "execution_count": 9,
   "metadata": {},
   "outputs": [],
   "source": [
    "result_predicao_t = clf_t.predict(base_treinamento)"
   ]
  },
  {
   "cell_type": "code",
   "execution_count": 10,
   "metadata": {
    "scrolled": true
   },
   "outputs": [
    {
     "data": {
      "text/plain": [
       "'Acerto de 73.3%'"
      ]
     },
     "execution_count": 10,
     "metadata": {},
     "output_type": "execute_result"
    }
   ],
   "source": [
    "'Acerto de %.1f%%' %(desempenho(resultado_treinamento, result_predicao_t)*100)"
   ]
  },
  {
   "cell_type": "markdown",
   "metadata": {},
   "source": [
    "#### Retenção Comum Com SVM"
   ]
  },
  {
   "cell_type": "code",
   "execution_count": 11,
   "metadata": {},
   "outputs": [],
   "source": [
    "clf_s = svm.SVC(gamma=0.001, C=100.).fit(base_modelo, resultado_modelo)"
   ]
  },
  {
   "cell_type": "code",
   "execution_count": 12,
   "metadata": {},
   "outputs": [],
   "source": [
    "result_predicao_s = clf_s.predict(base_treinamento)"
   ]
  },
  {
   "cell_type": "code",
   "execution_count": 13,
   "metadata": {},
   "outputs": [
    {
     "data": {
      "text/plain": [
       "'Acerto de 80.0%'"
      ]
     },
     "execution_count": 13,
     "metadata": {},
     "output_type": "execute_result"
    }
   ],
   "source": [
    "'Acerto de %.1f%%' %(desempenho(resultado_treinamento, result_predicao_s)*100)"
   ]
  },
  {
   "cell_type": "markdown",
   "metadata": {},
   "source": [
    "### Função que Calcula a Validação Cruzada"
   ]
  },
  {
   "cell_type": "code",
   "execution_count": 14,
   "metadata": {},
   "outputs": [],
   "source": [
    "def dividir_partes(base, resultado, k):\n",
    "    tam_parte = int(len(base)/k)\n",
    "    count = 0\n",
    "    base_partes = dict()\n",
    "    result_partes = dict()\n",
    "    \n",
    "    for i in range(0, len(base), tam_parte):\n",
    "        count += 1\n",
    "        base_partes[count] = base[i:i+tam_parte]\n",
    "        result_partes[count] = resultado[i:i+tam_parte]\n",
    "\n",
    "    return base_partes, result_partes"
   ]
  },
  {
   "cell_type": "code",
   "execution_count": 15,
   "metadata": {},
   "outputs": [],
   "source": [
    "def validacao_cruzada(base, resultado, classe_ml, k=5):\n",
    "    r_base, r_result = dividir_partes(base, resultado, k)\n",
    "    desempenho_lst = list()\n",
    "    \n",
    "    for key in list(r_base.keys()):\n",
    "        abt = r_base[key]\n",
    "        art = r_result[key]\n",
    "        \n",
    "        aux_base = list()\n",
    "        aux_result = list()\n",
    "        \n",
    "        for i_key in list(r_base.keys()):\n",
    "            if i_key == key:\n",
    "                continue\n",
    "            aux_base.append(r_base[i_key])\n",
    "            aux_result.append(r_result[i_key])\n",
    "            \n",
    "        abm = np.concatenate(aux_base)\n",
    "        arm = np.concatenate(aux_result)\n",
    "    \n",
    "        clf = classe_ml.fit(abm, arm)\n",
    "        rp = clf.predict(abt)\n",
    "        desempenho_lst.append(desempenho(art, rp))\n",
    "    return np.array(desempenho_lst).mean(), np.array(desempenho_lst).std()"
   ]
  },
  {
   "cell_type": "markdown",
   "metadata": {},
   "source": [
    "#### Validação Cruzada com Arvore de Decissão"
   ]
  },
  {
   "cell_type": "code",
   "execution_count": 16,
   "metadata": {},
   "outputs": [],
   "source": [
    "valor = validacao_cruzada(base,resultado,tree.DecisionTreeClassifier())"
   ]
  },
  {
   "cell_type": "code",
   "execution_count": 17,
   "metadata": {},
   "outputs": [
    {
     "name": "stdout",
     "output_type": "stream",
     "text": [
      "Media: 89.33%\n",
      "Desvio Padrão: 0.098\n"
     ]
    }
   ],
   "source": [
    "str_result = 'Media: %.2f%%\\nDesvio Padrão: %.3f' %(valor[0]*100, valor[1])\n",
    "print(str_result)"
   ]
  },
  {
   "cell_type": "markdown",
   "metadata": {},
   "source": [
    "#### Validação Cruzada com SVM"
   ]
  },
  {
   "cell_type": "code",
   "execution_count": 18,
   "metadata": {},
   "outputs": [],
   "source": [
    "valor_s = validacao_cruzada(base,resultado,svm.SVC(gamma=0.001, C=100.))"
   ]
  },
  {
   "cell_type": "code",
   "execution_count": 19,
   "metadata": {},
   "outputs": [
    {
     "name": "stdout",
     "output_type": "stream",
     "text": [
      "Media: 92.00%\n",
      "Desvio Padrão: 0.078\n"
     ]
    }
   ],
   "source": [
    "str_result = 'Media: %.2f%%\\nDesvio Padrão: %.3f' %(valor_s[0]*100, valor_s[1])\n",
    "print(str_result)"
   ]
  },
  {
   "cell_type": "markdown",
   "metadata": {},
   "source": [
    "### Usando Ferramentas da Biblioteca Sklearn"
   ]
  },
  {
   "cell_type": "markdown",
   "metadata": {},
   "source": [
    "#### Validação Cruzada com Avore de Decisão"
   ]
  },
  {
   "cell_type": "code",
   "execution_count": 20,
   "metadata": {},
   "outputs": [],
   "source": [
    "resultado_final_t = cross_val_predict(tree.DecisionTreeClassifier(), base, resultado, cv=5)"
   ]
  },
  {
   "cell_type": "code",
   "execution_count": 21,
   "metadata": {},
   "outputs": [
    {
     "name": "stdout",
     "output_type": "stream",
     "text": [
      "Acuracia: 96.00%\n"
     ]
    }
   ],
   "source": [
    "texto_t = 'Acuracia: %.2f%%' % (metrics.accuracy_score(resultado_final_t, resultado)*100)\n",
    "print(texto_t)"
   ]
  },
  {
   "cell_type": "markdown",
   "metadata": {},
   "source": [
    "#### Validação Cruzada com SVM"
   ]
  },
  {
   "cell_type": "code",
   "execution_count": 22,
   "metadata": {},
   "outputs": [],
   "source": [
    "resultado_final_s = cross_val_predict(svm.SVC(gamma=0.001, C=100.), base, resultado, cv=5)"
   ]
  },
  {
   "cell_type": "code",
   "execution_count": 23,
   "metadata": {},
   "outputs": [
    {
     "name": "stdout",
     "output_type": "stream",
     "text": [
      "Acuracia: 98.00%\n"
     ]
    }
   ],
   "source": [
    "texto_s = 'Acuracia: %.2f%%' % (metrics.accuracy_score(resultado_final_s, resultado)*100)\n",
    "print(texto_s)"
   ]
  },
  {
   "cell_type": "markdown",
   "metadata": {},
   "source": [
    "***Obs:*** *O algoritmo do* ***sklearn*** *fuciona de forma diferente, onde ele tras um lista com todas as repostas juntas, enquanto o da função feito acima retorna a acuracia de cada parte e no final é feito a Media e Desvio padrão* ***como é proposto no livro.***"
   ]
  },
  {
   "cell_type": "code",
   "execution_count": null,
   "metadata": {},
   "outputs": [],
   "source": []
  }
 ],
 "metadata": {
  "kernelspec": {
   "display_name": "Python 3",
   "language": "python",
   "name": "python3"
  },
  "language_info": {
   "codemirror_mode": {
    "name": "ipython",
    "version": 3
   },
   "file_extension": ".py",
   "mimetype": "text/x-python",
   "name": "python",
   "nbconvert_exporter": "python",
   "pygments_lexer": "ipython3",
   "version": "3.6.7"
  }
 },
 "nbformat": 4,
 "nbformat_minor": 2
}
